{
  "cells": [
    {
      "cell_type": "markdown",
      "metadata": {
        "id": "yE1zSoLpDuam"
      },
      "source": [
        "**Exploratory Analysis**"
      ]
    },
    {
      "cell_type": "code",
      "execution_count": 1,
      "metadata": {
        "colab": {
          "base_uri": "https://localhost:8080/",
          "height": 602
        },
        "id": "j8hPiSbTDqdw",
        "outputId": "8b7cc1ef-4654-4bd7-9ad4-86cb4baefcc6"
      },
      "outputs": [
        {
          "output_type": "stream",
          "name": "stdout",
          "text": [
            "dict_values([45, 801, 67, 33, 58, 39, 38, 47, 94, 60, 34])\n",
            "dict_keys(['IND', 'NSR', 'CON', 'INT', 'MAI', 'AVA', 'AUD', 'IMM', 'THE', 'THO', 'SUR'])\n"
          ]
        },
        {
          "output_type": "display_data",
          "data": {
            "text/plain": [
              "<Figure size 432x288 with 1 Axes>"
            ],
            "image/png": "[encoded data removed]"
          },
          "metadata": {
            "needs_background": "light"
          }
        },
        {
          "output_type": "display_data",
          "data": {
            "text/plain": [
              "<Figure size 432x288 with 1 Axes>"
            ],
            "image/png": "[encoded data removed]"
          },
          "metadata": {}
        }
      ],
      "source": [
        "import pandas as pd\n",
        "import numpy as np\n",
        "import matplotlib.pyplot as plt\n",
        "from collections import Counter\n",
        "\n",
        "# read datasets and count\n",
        "sre_df = pd.read_csv('/content/Input/dosspre.csv', sep=',', encoding='cp1252', header=0, quotechar = '\"')\n",
        "\n",
        "store=sre_df['class']\n",
        "c=Counter(store)\n",
        "print(c.values())\n",
        "print(c.keys())\n",
        "fig = plt.figure()\n",
        "ax = fig.add_axes([0,0,1,1])\n",
        "langs = ['IND', 'NSR', 'CON', 'INT', 'MAI', 'AVA', 'AUD', 'IMM', 'THE', 'THO', 'SUR']\n",
        "students = [45, 801, 67, 33, 58, 39, 38, 47, 94, 60, 34]\n",
        "ax.bar(langs,students)\n",
        "plt.show()\n",
        "\n",
        "\n",
        "y = np.array([801,515])\n",
        "mylabels = [\"Non-Security Requirements\", \" Security Requirements\" ]\n",
        "\n",
        "plt.pie(y, labels = mylabels)\n",
        "plt.pie(y)\n",
        "plt.show() "
      ]
    },
    {
      "cell_type": "markdown",
      "metadata": {
        "id": "TqRg_DC-D-fg"
      },
      "source": [
        "**Dataset Normalization**"
      ]
    },
    {
      "cell_type": "code",
      "execution_count": null,
      "metadata": {
        "id": "djbX0ZyNNxsc"
      },
      "outputs": [],
      "source": [
        "import pandas as pd\n",
        "from collections import defaultdict\n",
        "from nltk.corpus import wordnet as wn, stopwords\n",
        "from nltk.tokenize import word_tokenize\n",
        "from nltk.stem import WordNetLemmatizer\n",
        "from nltk.tag import pos_tag\n",
        "import nltk\n",
        "nltk.download('stopwords')\n",
        "nltk.download('wordnet')\n",
        "nltk.download('all')\n",
        "from nltk.corpus import stopwords\n",
        "from nltk.corpus import wordnet\n",
        "#from nltk.corpus import averaged_perceptron_tagger\n",
        "\n",
        "df = pd.read_csv('/content/Input/dosspre.csv', sep=',', encoding='cp1252', header=0, quotechar = '\"', doublequote=True)\n",
        "\n",
        "# remove the project information as the project does not ulitize it at all\n",
        "del df['ProjectID']\n",
        "\n",
        "def process_requirement_text(text):\n",
        "    # convert to lowercase and tokenize (a token is either a word or interpunction symbols)\n",
        "    tokens = word_tokenize(text.lower())\n",
        "\n",
        "    # filter out non-alphabetic strings, and stopwords ('a', 'the', etc.)\n",
        "    # what remains will either be nouns, verbs, adjectives or adverbs\n",
        "    # finally, perform lemmatization, i.e. replacing each word with its \"root\" form (e.g.: plural to singular form for nouns, past to present tense for verbs, etc.)\n",
        "    resulting_words = []\n",
        "    lemmatizer = WordNetLemmatizer()\n",
        "\n",
        "    english_stopwords = stopwords.words('english')\n",
        "    tag_map = defaultdict(lambda : wn.NOUN)\n",
        "    tag_map['J'] = wn.ADJ\n",
        "    tag_map['V'] = wn.VERB\n",
        "    tag_map['R'] = wn.ADV\n",
        "\n",
        "    for word, tag in pos_tag(tokens):\n",
        "        if word.isalpha() and word not in english_stopwords:\n",
        "            resulting_words.append(\n",
        "                lemmatizer.lemmatize(word, tag_map[tag[0]]))\n",
        "\n",
        "    return ' '.join(resulting_words)\n",
        "\n",
        "df['RequirementText'] = df['RequirementText'].apply(process_requirement_text)\n",
        "\n",
        "df.to_csv('/content/Output/dataset_normalized.csv', sep=',', header=True, index=False, quotechar = '\"', doublequote=True)\n"
      ]
    },
    {
      "cell_type": "markdown",
      "metadata": {
        "id": "GM40FiuSEGWn"
      },
      "source": [
        "**BOW and TF_IDF - Vectorization**"
      ]
    },
    {
      "cell_type": "code",
      "execution_count": 4,
      "metadata": {
        "id": "PotVxSsAQ8jc"
      },
      "outputs": [],
      "source": [
        "from math import log\n",
        "import numpy as np\n",
        "import pandas as pd\n",
        "\n",
        "df = pd.read_csv('/content/Output/dataset_normalized.csv', sep=',', header=0, quotechar = '\"', doublequote=True)\n",
        "\n",
        "# manual vectorization; not using CountVectorizer and TfidfVectorizer from sklearn.feature_extraction\n",
        "\n",
        "features_set = set()\n",
        "vector_list = [None] * df.shape[0]\n",
        "\n",
        "for index, row in df.iterrows():\n",
        "    text = row['RequirementText']\n",
        "    tokens = text.split(' ')\n",
        "    row_vector = {}\n",
        "    for token in tokens:\n",
        "        features_set.add(token)\n",
        "        if token in row_vector:\n",
        "            row_vector[token] = row_vector[token] + 1\n",
        "        else:\n",
        "            row_vector[token] = 1\n",
        "    vector_list[index] = row_vector\n",
        "\n",
        "features_sorted = list(features_set)\n",
        "features_sorted.sort()\n",
        "features_sorted_lookup_map = { value: index for index, value in enumerate(features_sorted) }\n",
        "\n",
        "vector_matrix_bow = np.zeros((df.shape[0], len(features_set)), dtype=np.int16)\n",
        "\n",
        "for i in range(len(vector_list)):\n",
        "    row_dict = vector_list[i]\n",
        "    for k, v in row_dict.items():\n",
        "        vector_matrix_bow[i, features_sorted_lookup_map[k]] = v\n",
        "\n",
        "bow_df = pd.DataFrame(data=vector_matrix_bow, columns=features_sorted)\n",
        "bow_df['class'] = df['class']\n",
        "bow_df.to_csv('/content/Output/dataset_bow.csv', sep=',', header=True, index=False)\n",
        "\n",
        "vector_matrix_tfidf = np.zeros((df.shape[0], len(features_set)))\n",
        "row_sums_bow = vector_matrix_bow.sum(axis=1)\n",
        "col_sums_bow = vector_matrix_bow.sum(axis=0)\n",
        "\n",
        "for i in range(vector_matrix_bow.shape[0]):\n",
        "    for j in range(vector_matrix_bow.shape[1]):\n",
        "        if vector_matrix_bow[i, j] == 0:    # minor optimization\n",
        "            continue\n",
        "        tf = vector_matrix_bow[i, j] / row_sums_bow[i]\n",
        "        idf = log(vector_matrix_bow.shape[0] / col_sums_bow[j])\n",
        "        vector_matrix_tfidf[i, j] = tf * idf\n",
        "\n",
        "tfidf_df = pd.DataFrame(data=vector_matrix_tfidf, columns=features_sorted)\n",
        "tfidf_df['class'] = df['class']\n",
        "tfidf_df.to_csv('/content/Output/dataset_tfidf.csv', sep=',', header=True, index=False)\n",
        "\n",
        "# bow_df and tfidf_df are (very) sparse matrices of shape (969, 1524)\n"
      ]
    },
    {
      "cell_type": "markdown",
      "metadata": {
        "id": "x8vKXokkEcKR"
      },
      "source": [
        "**2-class, 11-class and 10-class-- Feature Selection**"
      ]
    },
    {
      "cell_type": "code",
      "execution_count": 5,
      "metadata": {
        "id": "CGxBq1y_6V1E"
      },
      "outputs": [],
      "source": [
        "import pandas as pd\n",
        "bow_df = pd.read_csv('/content/Output/dataset_bow.csv', sep=',', header=0)\n",
        "tfidf_df = pd.read_csv('/content/Output/dataset_tfidf.csv', sep=',', header=0)\n",
        "\n",
        "# 11-class datasets (no changes, rename for consistency)\n",
        "bow_twelve_df = bow_df\n",
        "bow_twelve_df.to_csv('/content/feature/1-bow-11.csv', sep=',', header=True, index=False)\n",
        "\n",
        "tfidf_twelve_df = tfidf_df\n",
        "tfidf_twelve_df.to_csv('/content/feature/1-tfidf-11.csv', sep=',', header=True, index=False)\n",
        "\n",
        "# 10-class datasets\n",
        "bow_eleven_df = bow_df.copy()\n",
        "bow_eleven_df = bow_eleven_df[bow_eleven_df['class'] != 'NSR']\n",
        "bow_eleven_df.to_csv('/content/feature/1-bow-10.csv', sep=',', header=True, index=False)\n",
        "\n",
        "tfidf_eleven_df = tfidf_df.copy()\n",
        "tfidf_eleven_df = tfidf_eleven_df[tfidf_eleven_df['class'] != 'NSR']\n",
        "tfidf_eleven_df.to_csv('/content/feature/1-tfidf-10.csv', sep=',', header=True, index=False)\n",
        "\n",
        "# 4-class datasets\n",
        "bow_four_df = bow_df.copy()\n",
        "bow_four_df = bow_four_df.drop(bow_four_df[bow_four_df['class'] == 'NSR'].index)\n",
        "bow_four_df = bow_four_df.drop(bow_four_df[bow_four_df['class'] == 'IND'].index)\n",
        "bow_four_df = bow_four_df.drop(bow_four_df[bow_four_df['class'] == 'INT'].index)\n",
        "bow_four_df = bow_four_df.drop(bow_four_df[bow_four_df['class'] == 'AVA'].index)\n",
        "bow_four_df = bow_four_df.drop(bow_four_df[bow_four_df['class'] == 'AUD'].index)\n",
        "bow_four_df = bow_four_df.drop(bow_four_df[bow_four_df['class'] == 'IMM'].index)\n",
        "bow_four_df = bow_four_df.drop(bow_four_df[bow_four_df['class'] == 'SUR'].index)\n",
        "bow_four_df.to_csv('/content/feature/1-bow-4.csv', sep=',', header=True, index=False)\n",
        "\n",
        "tfidf_four_df = tfidf_df.copy()\n",
        "tfidf_four_df = tfidf_four_df.drop(tfidf_four_df[tfidf_four_df['class'] == 'NSR'].index)\n",
        "tfidf_four_df = tfidf_four_df.drop(tfidf_four_df[tfidf_four_df['class'] == 'IND'].index)\n",
        "tfidf_four_df = tfidf_four_df.drop(tfidf_four_df[tfidf_four_df['class'] == 'INT'].index)\n",
        "tfidf_four_df = tfidf_four_df.drop(tfidf_four_df[tfidf_four_df['class'] == 'AVA'].index)\n",
        "tfidf_four_df = tfidf_four_df.drop(tfidf_four_df[tfidf_four_df['class'] == 'AUD'].index)\n",
        "tfidf_four_df = tfidf_four_df.drop(tfidf_four_df[tfidf_four_df['class'] == 'IMM'].index)\n",
        "tfidf_four_df = tfidf_four_df.drop(tfidf_four_df[tfidf_four_df['class'] == 'SUR'].index)\n",
        "tfidf_four_df.to_csv('/content/feature/1-tfidf-4.csv', sep=',', header=True, index=False)\n",
        "\n",
        "# 2-class datasets\n",
        "#binarize_class = lambda entry: 'NSR' if entry == 'NSR' else 'SR'\n",
        "\n",
        "def binarize_class(entry):\n",
        "  if entry == 'NSR':\n",
        "    return 1\n",
        "  else:\n",
        "    return 0 \n",
        " \n",
        "sel_col1 = bow_df['class']  \n",
        "#print(sel_col1)\n",
        "bow_two_df = bow_df.copy()\n",
        "for column in sel_col1:\n",
        "  bow_two_df['class'] = bow_two_df['class'].apply(binarize_class)\n",
        "bow_two_df.to_csv('/content/feature/1-bow-2.csv', sep=',', header=True, index=False)\n",
        "\n",
        "\n",
        "tfidf_two_df = tfidf_df.copy()\n",
        "for column in tfidf_df['class']:\n",
        "  tfidf_two_df['class'] = tfidf_two_df['class'].apply(binarize_class)\n",
        "tfidf_two_df.to_csv('/content/feature/1-tfidf-2.csv', sep=',', header=True, index=False)\n"
      ]
    },
    {
      "cell_type": "markdown",
      "metadata": {
        "id": "4HaC_uYtEr9i"
      },
      "source": [
        "**Feature Selection - F Classifier**"
      ]
    },
    {
      "cell_type": "code",
      "execution_count": null,
      "metadata": {
        "id": "037lLIysDah2"
      },
      "outputs": [],
      "source": [
        "import pandas as pd\n",
        "import numpy as np\n",
        "from sklearn.feature_selection import SelectKBest, f_classif\n",
        "import matplotlib.pyplot as plt\n",
        "\n",
        "def process_dataset(name, stat_significance_level):\n",
        "    df = pd.read_csv('/content/feature/1-{}.csv'.format(name), sep=',', header=0)\n",
        "\n",
        "    X = df.drop('class', axis=1)\n",
        "    y = df['class']\n",
        "    selection = SelectKBest(f_classif, k=10)\n",
        "    selection.fit(X, y)\n",
        "    features_criterion = selection.pvalues_ < stat_significance_level\n",
        "\n",
        "    # output the reduced dataset\n",
        "    features_criterion_select = np.append(arr=features_criterion, values=[True], axis=0)\n",
        "    output_df = df.loc[:, features_criterion_select]\n",
        "    output_df.to_csv('/content/feature/2-{}.csv'.format(name), sep=',', header=True, index=False)\n",
        "\n",
        "    # return features count and 10 best feature names\n",
        "    features_scores_map = { X.columns[index]: selection.scores_[index] for index, value in enumerate(X.columns) }\n",
        "    top_ten_feature_names = sorted(features_scores_map, key=features_scores_map.get, reverse=True)[:10]\n",
        "    return (len(output_df.columns) - 1, top_ten_feature_names)\n",
        "\n",
        "datasets = ['bow-11', 'bow-10', 'bow-2', 'tfidf-11', 'tfidf-10', 'tfidf-2']\n",
        "stat_significances = [0.075, 0.075, 0.075, 0.8, 0.8, 0.325] # selected based on MNB performance during model selection\n",
        "infos = [ process_dataset(dataset, stat_significances[index]) for index, dataset in enumerate(datasets) ]\n",
        "lines = [ '** {} **\\ncount: {}\\ntop ten: {}\\n\\n'.format(datasets[index], info[0], ', '.join(info[1])) for index, info in enumerate(infos) ]\n",
        "lines[len(lines)-1] = lines[len(lines)-1][:-1] # cut off extraneous newline\n",
        "\n",
        "with open('/content/feature/2-F-info.txt', 'w') as writer:\n",
        "    writer.writelines(lines)\n"
      ]
    },
    {
      "cell_type": "markdown",
      "metadata": {
        "id": "6pnEcT1jFRbd"
      },
      "source": [
        "**PCA - Investigate**"
      ]
    },
    {
      "cell_type": "code",
      "execution_count": 20,
      "metadata": {
        "id": "_0mpJZnpFD6n",
        "colab": {
          "base_uri": "https://localhost:8080/",
          "height": 787
        },
        "outputId": "6a984bf2-b206-46a2-d0d8-8b38a1ba504d"
      },
      "outputs": [
        {
          "output_type": "display_data",
          "data": {
            "text/plain": [
              "<Figure size 1152x864 with 6 Axes>"
            ],
            "image/png": "[encoded data removed]"
          },
          "metadata": {
            "needs_background": "light"
          }
        }
      ],
      "source": [
        "import math\n",
        "import numpy as np\n",
        "import pandas as pd\n",
        "from sklearn.decomposition import PCA\n",
        "import matplotlib.pyplot as plt\n",
        "import matplotlib\n",
        "\n",
        "datasets = ['bow-11', 'bow-10', 'bow-2', 'tfidf-11', 'tfidf-10', 'tfidf-2']\n",
        "\n",
        "def investigate_dataset(name, axs):\n",
        "    df = pd.read_csv('/content/feature/1-{}.csv'.format(name), sep=',', header=0)\n",
        "    X = df.drop('class', axis=1)\n",
        "\n",
        "    components_count=min(X.shape[0], X.shape[1])\n",
        "    pca = PCA(n_components=components_count)\n",
        "    pca.fit(X)\n",
        "\n",
        "    explained_variance_cumsum = pd.Series(data=pca.explained_variance_ratio_).sort_values(ascending=False).cumsum()\n",
        "\n",
        "    axs.set_title(name)\n",
        "    axs.plot(explained_variance_cumsum)\n",
        "    axs.xaxis.set_minor_locator(matplotlib.ticker.AutoMinorLocator())\n",
        "    axs.set_yticks(np.linspace(0, 1, 11), minor=False)\n",
        "    axs.set_yticks(np.linspace(0, 1, 21), minor=True)\n",
        "    axs.grid(color='#e0e0e0', which='major')\n",
        "    axs.grid(color='#f2f2f2', which='minor')\n",
        "\n",
        "fig, axs = plt.subplots(2, 3)\n",
        "fig.suptitle('PCA Explained Variance Cumulative Sums')\n",
        "fig.set_size_inches(16, 12)\n",
        "\n",
        "for index, dataset in enumerate(datasets):\n",
        "    investigate_dataset(dataset, axs[math.floor(index / 3), index % 3])\n",
        "\n",
        "fig.savefig('/content/Output/3-pca-investigation.png')"
      ]
    },
    {
      "cell_type": "markdown",
      "metadata": {
        "id": "43g-z9v9FdbB"
      },
      "source": [
        "**PCA - Transform**"
      ]
    },
    {
      "cell_type": "code",
      "execution_count": 21,
      "metadata": {
        "id": "VLCbBnkqdenK",
        "colab": {
          "base_uri": "https://localhost:8080/"
        },
        "outputId": "e253c7a4-91fb-4fee-f3e1-65186506d3d0"
      },
      "outputs": [
        {
          "output_type": "stream",
          "name": "stdout",
          "text": [
            "** Explained Variance **\n",
            "bow-11   : 81.868%\n",
            "bow-10   : 86.137%\n",
            "bow-2    : 77.647%\n",
            "tfidf-11 : 77.387%\n",
            "tfidf-10 : 90.358%\n",
            "tfidf-2  : 84.643%\n"
          ]
        }
      ],
      "source": [
        "import pandas as pd\n",
        "import matplotlib.pyplot as plt\n",
        "from sklearn.decomposition import PCA\n",
        "\n",
        "datasets = ['bow-11', 'bow-10', 'bow-2', 'tfidf-11', 'tfidf-10', 'tfidf-2']\n",
        "component_counts = [300, 200, 250, 400, 300, 500] # based on slope of explained variance cumulative sum curves from 3-pca-investigate.py (98% - 99%)\n",
        "\n",
        "print('** Explained Variance **')\n",
        "\n",
        "def transform_dataset(name, component_count):\n",
        "    df = pd.read_csv('/content/feature/1-{}.csv'.format(name), sep=',', header=0)\n",
        "    X = df.drop('class', axis=1)\n",
        "\n",
        "    pca = PCA(n_components=component_count)\n",
        "    pca.fit(X)\n",
        "    print('{:<9}: {:.3f}%'.format(name, sum(pca.explained_variance_ratio_[:component_count]) * 100))\n",
        "\n",
        "    X_new = pca.transform(X)\n",
        "    X_new_cols = [ 'Comp{}'.format(index + 1) for index in range(X_new.shape[1]) ]\n",
        "    df_output = pd.DataFrame(data=X_new, columns=X_new_cols)\n",
        "    df_output['class'] = df['class']\n",
        "\n",
        "    df_output.to_csv('/content/Output/3-{}.csv'.format(name), sep=',', header=True, index=False)\n",
        "\n",
        "for index, dataset in enumerate(datasets):\n",
        "    transform_dataset(dataset, component_counts[index])"
      ]
    },
    {
      "cell_type": "markdown",
      "metadata": {
        "id": "A-eIpzfgGMsl"
      },
      "source": [
        "**Model selection and evaluation**"
      ]
    },
    {
      "cell_type": "code",
      "execution_count": 9,
      "metadata": {
        "id": "_29jShFjmSk2"
      },
      "outputs": [],
      "source": [
        "dataset1 = pd.read_csv(\"/content/feature/1-bow-10.csv\")\n",
        "dataset1.head()\n",
        "\n",
        "categ = ['class']\n",
        "from sklearn import preprocessing\n",
        "le = preprocessing.LabelEncoder()\n",
        "dataset1[categ] = dataset1[categ].apply(le.fit_transform)"
      ]
    },
    {
      "cell_type": "code",
      "execution_count": 10,
      "metadata": {
        "id": "ttqkJqLZmSsY"
      },
      "outputs": [],
      "source": [
        "X = dataset1.drop('class', axis=1)\n",
        "y = dataset1['class']"
      ]
    },
    {
      "cell_type": "markdown",
      "metadata": {
        "id": "rahYuPSjt1Jf"
      },
      "source": [
        "**Importing Libraraies--Model selection**"
      ]
    },
    {
      "cell_type": "code",
      "execution_count": 11,
      "metadata": {
        "id": "8GyktqwEmSyX"
      },
      "outputs": [],
      "source": [
        "from sklearn.model_selection import KFold\n",
        "from sklearn.model_selection import GridSearchCV\n",
        "from sklearn.metrics import accuracy_score\n",
        "from numpy import mean\n",
        "from numpy import std\n",
        "from sklearn.preprocessing import LabelEncoder\n",
        "import matplotlib.pyplot as plt\n",
        "import seaborn as sns\n",
        "from sklearn.model_selection import train_test_split\n",
        "from sklearn import svm\n",
        "from sklearn import tree\n",
        "from sklearn.tree import DecisionTreeClassifier\n",
        "from sklearn.neighbors import KNeighborsClassifier\n",
        "from sklearn.ensemble import RandomForestClassifier\n",
        "from sklearn.metrics import roc_curve,auc\n",
        "from sklearn.metrics import precision_score\n",
        "from sklearn.metrics import recall_score\n",
        "from sklearn.metrics import confusion_matrix\n",
        "from sklearn.metrics import classification_report\n",
        "import sklearn.metrics as metrics\n",
        "from sklearn.preprocessing import StandardScaler\n",
        "from sklearn.model_selection import train_test_split\n",
        "from sklearn.metrics import roc_curve,auc\n",
        "from sklearn.metrics import plot_confusion_matrix\n",
        "from sklearn.svm import SVC\n",
        "from sklearn.neural_network import MLPClassifier\n",
        "from sklearn.ensemble import GradientBoostingClassifier\n",
        "from re import VERBOSE\n",
        "import warnings\n",
        "from sklearn.exceptions import DataConversionWarning\n",
        "warnings.filterwarnings(action='ignore', category=DataConversionWarning)\n",
        "from sklearn.exceptions import ConvergenceWarning\n",
        "with warnings.catch_warnings():\n",
        "  warnings.filterwarnings(\"ignore\", category=ConvergenceWarning)\n",
        "# manual nested cross-validation for random forest on a classification dataset\n",
        "from numpy import mean\n",
        "from numpy import std\n",
        "from sklearn.model_selection import KFold\n",
        "from sklearn.model_selection import GridSearchCV\n",
        "from sklearn.metrics import accuracy_score\n",
        "from sklearn.linear_model import RidgeClassifier\n",
        "from sklearn.metrics import f1_score"
      ]
    },
    {
      "cell_type": "markdown",
      "source": [
        "**Model Evaluation**"
      ],
      "metadata": {
        "id": "le4yQ7ks9znI"
      }
    },
    {
      "cell_type": "code",
      "source": [
        "from sklearn.linear_model import LogisticRegression\n",
        "# configure the cross-validation procedure\n",
        "from imblearn.over_sampling import SMOTE\n",
        "smt = SMOTE(k_neighbors=5,sampling_strategy='minority')\n",
        "cv_outer = KFold(n_splits=10, shuffle=True, random_state=1)\n",
        "# enumerate splits\n",
        "outer_results1 = list()\n",
        "outer_results2 = list()\n",
        "outer_results3 = list()\n",
        "outer_results4 = list()\n",
        "for train_ix, test_ix in cv_outer.split(X):\n",
        "  X_train, y_train = smt.fit_resample(X.iloc[train_ix, :], y[train_ix])\n",
        "  X_test, y_test = X.iloc[test_ix, :], y[test_ix]\n",
        "  # configure the cross-validation procedure\n",
        "  cv_inner = KFold(n_splits=3, shuffle=True, random_state=1)\n",
        "  # define the models\n",
        "  dt = tree.DecisionTreeClassifier()\n",
        "  rf = RandomForestClassifier(verbose=0)\n",
        "  lr = LogisticRegression()\n",
        "  sv = svm.SVC(verbose=0)  \n",
        "  knn = KNeighborsClassifier()\n",
        "  \n",
        "  #------------------------------------------------------------------------------------\n",
        "  # define search space\n",
        "  dt_space = dict()\n",
        "  dt_space['max_depth'] = [2,4,6]\n",
        "  rf_space = dict()\n",
        "  rf_space['n_estimators'] = [10, 50, 100]\n",
        "  rf_space['max_features'] = ['sqrt','log','None']\n",
        "  lr_space = dict()\n",
        "  lr_space['penalty'] = ['none','l2','l1','elasticnet']\n",
        "  svm_space = dict()\n",
        "  svm_space['kernel']=['linear','poly','rbf']\n",
        "  svm_space['C']=[0.1, 1, 10, 100, 1000]\n",
        "  knn_space = dict()\n",
        "  knn_space['n_neighbors'] = [3,5,11]\n",
        "  \n",
        "\n",
        "  #------------------------------------------------------------------------------------\n",
        "  \n",
        "  # define search\n",
        "  search1 = GridSearchCV(dt, dt_space, scoring='accuracy', cv=cv_inner, refit=True) # Search for DT\n",
        "  search2 = GridSearchCV(rf, rf_space, scoring='accuracy', cv=cv_inner, refit=True) # Search for RFC\n",
        "  search3 = GridSearchCV(lr, lr_space, scoring='accuracy', cv=cv_inner, refit=True) # Search for LR\n",
        "  search4 = GridSearchCV(sv, svm_space, scoring='accuracy', cv=cv_inner, refit=True) # Search for SVM\n",
        "  search5 = GridSearchCV(knn, knn_space, scoring='accuracy', cv=cv_inner, refit=True) # Search for SVM\n",
        "\n",
        "  #-------------------------------------------------------------------------------------\n",
        "  \n",
        "  # execute search\n",
        "  result1 = search1.fit(X_train, y_train)\n",
        "  result2 = search2.fit(X_train, y_train)\n",
        "  result3 = search3.fit(X_train, y_train)\n",
        "  result4 = search4.fit(X_train, y_train)\n",
        "  result5 = search4.fit(X_train, y_train)\n",
        "\n",
        "  #---------------------------------------------------------------------------------------\n",
        "\n",
        "\t# get the best performing model fit on the whole training set\n",
        "  best_model1 = result1.best_estimator_\n",
        "  best_model2 = result2.best_estimator_\n",
        "  best_model3 = result3.best_estimator_\n",
        "  best_model4 = result4.best_estimator_\n",
        "  best_model5 = result4.best_estimator_\n",
        "  #-----------------------------------------------------------------------------------------\n",
        "\n",
        "\t# evaluate model on the hold out dataset\n",
        "  yhat1 = best_model1.predict(X_test)\n",
        "  yhat2 = best_model2.predict(X_test)\n",
        "  yhat3 = best_model3.predict(X_test)\n",
        "  yhat4 = best_model4.predict(X_test)\n",
        "  yhat5 = best_model4.predict(X_test)\n",
        "  #-----------------------------------------------------------------------------------------\n",
        "\n",
        "\t# evaluate the model\n",
        "  acc1 = accuracy_score(y_test, yhat1)\n",
        "  acc2 = accuracy_score(y_test, yhat2)\n",
        "  acc3 = accuracy_score(y_test, yhat3)\n",
        "  acc4 = accuracy_score(y_test, yhat4)\n",
        "  acc5 = accuracy_score(y_test, yhat4)\n",
        "  #------------------------------------------------------------------------------------------\n",
        "\n",
        "  # evaluate the precision:\n",
        "  prec1 = precision_score(y_test, yhat1,average='macro')\n",
        "  prec2 = precision_score(y_test, yhat2,average='macro')\n",
        "  prec3 = precision_score(y_test, yhat3,average='macro')\n",
        "  prec4 = precision_score(y_test, yhat4,average='macro')\n",
        "  prec5 = precision_score(y_test, yhat5,average='macro')\n",
        "\n",
        "\n",
        "  #evaluate the recall score:\n",
        "  r1 = recall_score(y_test, yhat1,average='macro')\n",
        "  r2 = recall_score(y_test, yhat2,average='macro')\n",
        "  r3 = recall_score(y_test, yhat3,average='macro')\n",
        "  r4 = recall_score(y_test, yhat4,average='macro')\n",
        "  r5 = recall_score(y_test, yhat5,average='macro')\n",
        "\n",
        "  #evaluate the f1 score:\n",
        "  f1 = f1_score(y_test, yhat1,average='macro')\n",
        "  f2 = f1_score(y_test, yhat2,average='macro')\n",
        "  f3 = f1_score(y_test, yhat3,average='macro')\n",
        "  f4 = f1_score(y_test, yhat4,average='macro')\n",
        "  f5 = f1_score(y_test, yhat5,average='macro')\n",
        "\n",
        "\t# store the result\n",
        "  outer_results1.append(acc1)\n",
        "  outer_results1.append(acc2)\n",
        "  outer_results1.append(acc3)\n",
        "  outer_results1.append(acc4)\n",
        "  outer_results1.append(acc5)\n",
        "\n",
        "  outer_results2.append(prec1)\n",
        "  outer_results2.append(prec2)\n",
        "  outer_results2.append(prec3)\n",
        "  outer_results2.append(prec4)\n",
        "  outer_results2.append(prec5)\n",
        "\n",
        "  outer_results3.append(r1)\n",
        "  outer_results3.append(r2)\n",
        "  outer_results3.append(r3)\n",
        "  outer_results3.append(r4)\n",
        "  outer_results3.append(r5)\n",
        "\n",
        "  outer_results4.append(f1)\n",
        "  outer_results4.append(f2)\n",
        "  outer_results4.append(f3)\n",
        "  outer_results4.append(f4)\n",
        "  outer_results4.append(f5)\n",
        "\n",
        "  #-------------------------------------------------------------------------------------------\n",
        "\n",
        "\n",
        "\t# report progress\n",
        "  print('Decision Tree Score Accuracy: >acc=%.3f, est=%.3f, cfg=%s' % (acc1, result1.best_score_, result1.best_params_))\n",
        "  print('Random Forest Score Accuarcy: >acc=%.3f, est=%.3f, cfg=%s' % (acc2, result2.best_score_, result2.best_params_))\n",
        "  print('Logistic Regression Accuracy: >acc=%.3f, est=%.3f, cfg=%s' % (acc3, result3.best_score_, result3.best_params_))\n",
        "  print('Support Vector Machine Score Accuracy: >acc=%.3f, est=%.3f, cfg=%s' % (acc4, result4.best_score_, result4.best_params_))\n",
        "  print('KNN classifier Accuracy: >acc=%.3f, est=%.3f, cfg=%s' % (acc5, result4.best_score_, result4.best_params_))\n",
        "\n",
        "  print('Decision Tree Score Prec: >prec=%.3f, est=%.3f, cfg=%s' % (prec1, result1.best_score_, result1.best_params_))\n",
        "  print('Random Forest Score Prec: >prec=%.3f, est=%.3f, cfg=%s' % (prec2, result2.best_score_, result2.best_params_))\n",
        "  print('Logistic Regression Prec: >prec=%.3f, est=%.3f, cfg=%s' % (prec3, result3.best_score_, result3.best_params_))\n",
        "  print('Support Vector Machine Prec: >prec=%.3f, est=%.3f, cfg=%s' % (prec4, result4.best_score_, result4.best_params_))\n",
        "  print('KNN classifier Prec:  >prec=%.3f, est=%.3f, cfg=%s' % (prec5, result4.best_score_, result4.best_params_))\n",
        "\n",
        "  print('Decision Tree Score Recall: >rec=%.3f, est=%.3f, cfg=%s' % (r1, result1.best_score_, result1.best_params_))\n",
        "  print('Random Forest Scores Recall: >rec=%.3f, est=%.3f, cfg=%s' % (r2, result2.best_score_, result2.best_params_))\n",
        "  print('Logistic Regression Recall: >rec=%.3f, est=%.3f, cfg=%s' % (r3, result3.best_score_, result3.best_params_))\n",
        "  print('Support Vector Machine Recall: >rec=%.3f, est=%.3f, cfg=%s' % (r4, result4.best_score_, result4.best_params_))\n",
        "  print('KNN classifier Recall: >rec=%.3f, est=%.3f, cfg=%s' % (r5, result4.best_score_, result4.best_params_))\n",
        "\n",
        "  print('Decision Tree Scores F: >F=%.3f, est=%.3f, cfg=%s' % (f1, result1.best_score_, result1.best_params_))\n",
        "  print('Random Forest Scores F: >F=%.3f, est=%.3f, cfg=%s' % (f2, result2.best_score_, result2.best_params_))\n",
        "  print('Logistic Regression F: >F=%.3f, est=%.3f, cfg=%s' % (f3, result3.best_score_, result3.best_params_))\n",
        "  print('Support Vector Machine F: >F=%.3f, est=%.3f, cfg=%s' % (f4, result4.best_score_, result4.best_params_))\n",
        "  print('KNN classifier F: >F=%.3f, est=%.3f, cfg=%s' % (f5, result4.best_score_, result4.best_params_))\n",
        " \n",
        "print('Accuracy: %.3f (%.3f)' % (mean(outer_results1), std(outer_results1)))\n",
        "print('Precision: %.3f (%.3f)' % (mean(outer_results2), std(outer_results2)))\n",
        "print('Recall: %.3f (%.3f)' % (mean(outer_results3), std(outer_results3)))\n",
        "print('F1 Score: %.3f (%.3f)' % (mean(outer_results4), std(outer_results4)))"
      ],
      "metadata": {
        "id": "1P216b48d09_"
      },
      "execution_count": null,
      "outputs": []
    }
  ],
  "metadata": {
    "colab": {
      "provenance": []
    },
    "kernelspec": {
      "display_name": "Python 3",
      "name": "python3"
    },
    "language_info": {
      "name": "python"
    },
    "accelerator": "GPU",
    "gpuClass": "standard"
  },
  "nbformat": 4,
  "nbformat_minor": 0
}